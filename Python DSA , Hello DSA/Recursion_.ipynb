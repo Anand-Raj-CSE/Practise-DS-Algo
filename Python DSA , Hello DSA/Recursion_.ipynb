{
  "nbformat": 4,
  "nbformat_minor": 0,
  "metadata": {
    "colab": {
      "provenance": []
    },
    "kernelspec": {
      "name": "python3",
      "display_name": "Python 3"
    },
    "language_info": {
      "name": "python"
    }
  },
  "cells": [
    {
      "cell_type": "code",
      "source": [
        "def fibonacci(n):\n",
        "  if n==1 or n==0:\n",
        "    return 1\n",
        "\n",
        "  first = fibonacci(n-1)\n",
        "  second = fibonacci(n-2)\n",
        "    #print(f\"First number is : {first} and second number : {second}\")\n",
        "  return first + second"
      ],
      "metadata": {
        "id": "UOv6_UIXh9NK"
      },
      "execution_count": null,
      "outputs": []
    },
    {
      "cell_type": "code",
      "source": [
        "fibonacci(5)"
      ],
      "metadata": {
        "colab": {
          "base_uri": "https://localhost:8080/"
        },
        "id": "qXSx0d5znels",
        "outputId": "f65113ec-0158-47ad-80ed-061891e77a05"
      },
      "execution_count": null,
      "outputs": [
        {
          "output_type": "execute_result",
          "data": {
            "text/plain": [
              "8"
            ]
          },
          "metadata": {},
          "execution_count": 6
        }
      ]
    },
    {
      "cell_type": "code",
      "source": [
        "def print1toN(n):\n",
        "  if n == 0:\n",
        "    return\n",
        "  print1toN(n-1)\n",
        "  print(n)"
      ],
      "metadata": {
        "id": "PCFsF1zFnhhW"
      },
      "execution_count": null,
      "outputs": []
    },
    {
      "cell_type": "code",
      "source": [
        "print1toN(5)"
      ],
      "metadata": {
        "colab": {
          "base_uri": "https://localhost:8080/"
        },
        "id": "bzStbYq8nJ8a",
        "outputId": "fae9d6bb-3af9-4298-9212-a2de667c2a9d"
      },
      "execution_count": null,
      "outputs": [
        {
          "output_type": "stream",
          "name": "stdout",
          "text": [
            "1\n",
            "2\n",
            "3\n",
            "4\n",
            "5\n"
          ]
        }
      ]
    },
    {
      "cell_type": "code",
      "source": [
        "def printNto1(n):\n",
        "  if n==0:\n",
        "    return\n",
        "  print(n)\n",
        "  printNto1(n-1)"
      ],
      "metadata": {
        "id": "G9Uo5rPXnLWZ"
      },
      "execution_count": null,
      "outputs": []
    },
    {
      "cell_type": "code",
      "source": [
        "printNto1(5)"
      ],
      "metadata": {
        "colab": {
          "base_uri": "https://localhost:8080/"
        },
        "id": "mEIS-y8-nYqt",
        "outputId": "ae51689d-6d36-47c7-a4f0-df2adc930e0f"
      },
      "execution_count": null,
      "outputs": [
        {
          "output_type": "stream",
          "name": "stdout",
          "text": [
            "5\n",
            "4\n",
            "3\n",
            "2\n",
            "1\n"
          ]
        }
      ]
    },
    {
      "cell_type": "markdown",
      "source": [
        "1 to n is example of Head Recursion , pehle hum apna recusrion call kar rahe hai fir apna kaam kar rahe hai isilie ise kaha gaya hai head recursion. Tail recursion me pehle apna kaam kia is case me apne numbers print karae fir recursion ko call kia."
      ],
      "metadata": {
        "id": "ywj2h03aoW2L"
      }
    },
    {
      "cell_type": "code",
      "source": [
        "# Sum of all digits\n",
        "def sumofAllDigits(n):\n",
        "  if n==0:\n",
        "    return 0\n",
        "  ans = int(n%10) + sumofAllDigits(n/10)\n",
        "  return ans"
      ],
      "metadata": {
        "id": "ptOwijCfnaSr"
      },
      "execution_count": null,
      "outputs": []
    },
    {
      "cell_type": "code",
      "source": [
        "sumofAllDigits(234)"
      ],
      "metadata": {
        "colab": {
          "base_uri": "https://localhost:8080/"
        },
        "id": "AVHpanYXpw2w",
        "outputId": "71494f70-5b45-43a9-c91c-0ad59095133e"
      },
      "execution_count": null,
      "outputs": [
        {
          "output_type": "execute_result",
          "data": {
            "text/plain": [
              "9"
            ]
          },
          "metadata": {},
          "execution_count": 10
        }
      ]
    },
    {
      "cell_type": "code",
      "source": [
        "# Power of any number\n",
        "def powerofn(original,n):\n",
        "  if n==0:\n",
        "    return 1\n",
        "  ans = original * powerofn(original,n-1)\n",
        "  return ans"
      ],
      "metadata": {
        "id": "OdAeSWrhpy2F"
      },
      "execution_count": null,
      "outputs": []
    },
    {
      "cell_type": "code",
      "source": [
        "powerofn(2,3)"
      ],
      "metadata": {
        "colab": {
          "base_uri": "https://localhost:8080/"
        },
        "id": "UwsmMQqhtdMJ",
        "outputId": "24200cae-cbfd-46d3-a22c-72b0645c9729"
      },
      "execution_count": null,
      "outputs": [
        {
          "output_type": "execute_result",
          "data": {
            "text/plain": [
              "8"
            ]
          },
          "metadata": {},
          "execution_count": 12
        }
      ]
    },
    {
      "cell_type": "markdown",
      "source": [
        "Sum of array using recursion"
      ],
      "metadata": {
        "id": "5s5VqfeQfOVB"
      }
    },
    {
      "cell_type": "code",
      "source": [
        "\n",
        "def sumofarr(l,n,sum):\n",
        "  if n==0:\n",
        "    sum += l[n]\n",
        "    return sum\n",
        "  sum += l[n]\n",
        "  n-=1\n",
        "  return sumofarr(l,n,sum)\n",
        "\n"
      ],
      "metadata": {
        "id": "lgsF7mzNtfNo"
      },
      "execution_count": null,
      "outputs": []
    },
    {
      "cell_type": "code",
      "source": [
        "l=[5,6,7]\n",
        "print(sumofarr(l,n=len(l)-1,sum=0))"
      ],
      "metadata": {
        "colab": {
          "base_uri": "https://localhost:8080/"
        },
        "id": "hnydkgkVgbuZ",
        "outputId": "bc96563a-42ab-4c60-e04c-dfe8a3a31c26"
      },
      "execution_count": null,
      "outputs": [
        {
          "output_type": "stream",
          "name": "stdout",
          "text": [
            "18\n"
          ]
        }
      ]
    },
    {
      "cell_type": "code",
      "source": [
        "def anothersumarr(l):\n",
        "  if len(l) == 0:\n",
        "    return 0\n",
        "  rightsum = anothersumarr(l[1:])\n",
        "  my_sum = l[0]+rightsum\n",
        "  return my_sum"
      ],
      "metadata": {
        "id": "nLUsXfdxgmha"
      },
      "execution_count": null,
      "outputs": []
    },
    {
      "cell_type": "code",
      "source": [
        "l=[1,2,3,4,5,6,7,8,9]\n",
        "print(anothersumarr(l))\n",
        "print(sumofarr(l,len(l)-1,sum=0))"
      ],
      "metadata": {
        "colab": {
          "base_uri": "https://localhost:8080/"
        },
        "id": "euyan-SZkI93",
        "outputId": "af161203-bc71-4238-f96b-ab690b84497d"
      },
      "execution_count": null,
      "outputs": [
        {
          "output_type": "stream",
          "name": "stdout",
          "text": [
            "45\n",
            "45\n"
          ]
        }
      ]
    },
    {
      "cell_type": "code",
      "source": [
        "def sortarray(l):\n",
        "  if len(l)==0 or len(l)==1:\n",
        "    return True\n",
        "  restsorted = sortarray(l[1:])\n",
        "  if restsorted == False:\n",
        "    return False\n",
        "  if l[0]<l[1]:\n",
        "    return True\n",
        "  else:\n",
        "    return False\n"
      ],
      "metadata": {
        "id": "mYmBUYbpkO3e"
      },
      "execution_count": null,
      "outputs": []
    },
    {
      "cell_type": "code",
      "source": [
        "print(sortarray([1,2,3,4,5,67]))"
      ],
      "metadata": {
        "id": "kDyuqRo_xRly",
        "outputId": "f441cd32-d46a-4b80-d6d1-a94007bac651",
        "colab": {
          "base_uri": "https://localhost:8080/"
        }
      },
      "execution_count": null,
      "outputs": [
        {
          "output_type": "stream",
          "name": "stdout",
          "text": [
            "True\n"
          ]
        }
      ]
    },
    {
      "cell_type": "code",
      "source": [
        "def sortedarraywithlesscall(l):\n",
        "  if len(l) in (0,1):\n",
        "    return True\n",
        "  if l[0]>l[1]:\n",
        "    return False\n",
        "  return sortedarraywithlesscall(l[1:])"
      ],
      "metadata": {
        "id": "slWKxCmZxUbO"
      },
      "execution_count": null,
      "outputs": []
    },
    {
      "cell_type": "code",
      "source": [
        "print(sortedarraywithlesscall([1,2,35,4,5,67]))"
      ],
      "metadata": {
        "colab": {
          "base_uri": "https://localhost:8080/"
        },
        "id": "4tusd2iX_tzP",
        "outputId": "6d4016d7-18c7-43e1-bd76-a56d315b8658"
      },
      "execution_count": null,
      "outputs": [
        {
          "output_type": "stream",
          "name": "stdout",
          "text": [
            "False\n"
          ]
        }
      ]
    },
    {
      "cell_type": "markdown",
      "source": [
        "### First , last and all index in an element in an array , first last and all index."
      ],
      "metadata": {
        "id": "Cm-sCNETBrgl"
      }
    },
    {
      "cell_type": "code",
      "source": [
        "def firstOccurance(l,n):\n",
        "  if len(l) == 0:\n",
        "    return -1\n",
        "  if l[0] == n:\n",
        "    return 0\n",
        "  first_index = firstOccurance(l[1:],n)\n",
        "  if first_index == -1:\n",
        "    return first_index\n",
        "  if first_index == 0:\n",
        "    return first_index + 1\n"
      ],
      "metadata": {
        "id": "7O4Cgeyr_0FQ"
      },
      "execution_count": null,
      "outputs": []
    },
    {
      "cell_type": "code",
      "source": [
        "firstOccurance([3,4,5,6,8,9,7,2Ṇ,5,6,7,2],2)"
      ],
      "metadata": {
        "id": "oV_9DkXUESSU"
      },
      "execution_count": null,
      "outputs": []
    },
    {
      "cell_type": "code",
      "source": [],
      "metadata": {
        "id": "7H-8DfZ9EX9g"
      },
      "execution_count": null,
      "outputs": []
    }
  ]
}