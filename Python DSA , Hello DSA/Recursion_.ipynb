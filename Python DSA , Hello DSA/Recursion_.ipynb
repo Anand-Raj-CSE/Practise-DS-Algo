{
  "cells": [
    {
      "cell_type": "code",
      "execution_count": null,
      "metadata": {
        "id": "UOv6_UIXh9NK"
      },
      "outputs": [],
      "source": [
        "def fibonacci(n):\n",
        "  if n==1 or n==0:\n",
        "    return 1\n",
        "\n",
        "  first = fibonacci(n-1)\n",
        "  second = fibonacci(n-2)\n",
        "    #print(f\"First number is : {first} and second number : {second}\")\n",
        "  return first + second"
      ]
    },
    {
      "cell_type": "code",
      "execution_count": null,
      "metadata": {
        "colab": {
          "base_uri": "https://localhost:8080/"
        },
        "id": "qXSx0d5znels",
        "outputId": "f65113ec-0158-47ad-80ed-061891e77a05"
      },
      "outputs": [
        {
          "data": {
            "text/plain": [
              "8"
            ]
          },
          "execution_count": 6,
          "metadata": {},
          "output_type": "execute_result"
        }
      ],
      "source": [
        "fibonacci(5)"
      ]
    },
    {
      "cell_type": "code",
      "execution_count": null,
      "metadata": {
        "id": "PCFsF1zFnhhW"
      },
      "outputs": [],
      "source": [
        "def print1toN(n):\n",
        "  if n == 0:\n",
        "    return\n",
        "  print1toN(n-1)\n",
        "  print(n)"
      ]
    },
    {
      "cell_type": "code",
      "execution_count": null,
      "metadata": {
        "colab": {
          "base_uri": "https://localhost:8080/"
        },
        "id": "bzStbYq8nJ8a",
        "outputId": "fae9d6bb-3af9-4298-9212-a2de667c2a9d"
      },
      "outputs": [
        {
          "name": "stdout",
          "output_type": "stream",
          "text": [
            "1\n",
            "2\n",
            "3\n",
            "4\n",
            "5\n"
          ]
        }
      ],
      "source": [
        "print1toN(5)"
      ]
    },
    {
      "cell_type": "code",
      "execution_count": null,
      "metadata": {
        "id": "G9Uo5rPXnLWZ"
      },
      "outputs": [],
      "source": [
        "def printNto1(n):\n",
        "  if n==0:\n",
        "    return\n",
        "  print(n)\n",
        "  printNto1(n-1)"
      ]
    },
    {
      "cell_type": "code",
      "execution_count": null,
      "metadata": {
        "colab": {
          "base_uri": "https://localhost:8080/"
        },
        "id": "mEIS-y8-nYqt",
        "outputId": "ae51689d-6d36-47c7-a4f0-df2adc930e0f"
      },
      "outputs": [
        {
          "name": "stdout",
          "output_type": "stream",
          "text": [
            "5\n",
            "4\n",
            "3\n",
            "2\n",
            "1\n"
          ]
        }
      ],
      "source": [
        "printNto1(5)"
      ]
    },
    {
      "cell_type": "markdown",
      "metadata": {
        "id": "ywj2h03aoW2L"
      },
      "source": [
        "1 to n is example of Head Recursion , pehle hum apna recusrion call kar rahe hai fir apna kaam kar rahe hai isilie ise kaha gaya hai head recursion. Tail recursion me pehle apna kaam kia is case me apne numbers print karae fir recursion ko call kia."
      ]
    },
    {
      "cell_type": "code",
      "execution_count": null,
      "metadata": {
        "id": "ptOwijCfnaSr"
      },
      "outputs": [],
      "source": [
        "# Sum of all digits\n",
        "def sumofAllDigits(n):\n",
        "  if n==0:\n",
        "    return 0\n",
        "  ans = int(n%10) + sumofAllDigits(n/10)\n",
        "  return ans"
      ]
    },
    {
      "cell_type": "code",
      "execution_count": null,
      "metadata": {
        "colab": {
          "base_uri": "https://localhost:8080/"
        },
        "id": "AVHpanYXpw2w",
        "outputId": "71494f70-5b45-43a9-c91c-0ad59095133e"
      },
      "outputs": [
        {
          "data": {
            "text/plain": [
              "9"
            ]
          },
          "execution_count": 10,
          "metadata": {},
          "output_type": "execute_result"
        }
      ],
      "source": [
        "sumofAllDigits(234)"
      ]
    },
    {
      "cell_type": "code",
      "execution_count": null,
      "metadata": {
        "id": "OdAeSWrhpy2F"
      },
      "outputs": [],
      "source": [
        "# Power of any number\n",
        "def powerofn(original,n):\n",
        "  if n==0:\n",
        "    return 1\n",
        "  ans = original * powerofn(original,n-1)\n",
        "  return ans"
      ]
    },
    {
      "cell_type": "code",
      "execution_count": null,
      "metadata": {
        "colab": {
          "base_uri": "https://localhost:8080/"
        },
        "id": "UwsmMQqhtdMJ",
        "outputId": "24200cae-cbfd-46d3-a22c-72b0645c9729"
      },
      "outputs": [
        {
          "data": {
            "text/plain": [
              "8"
            ]
          },
          "execution_count": 12,
          "metadata": {},
          "output_type": "execute_result"
        }
      ],
      "source": [
        "powerofn(2,3)"
      ]
    },
    {
      "cell_type": "markdown",
      "metadata": {
        "id": "5s5VqfeQfOVB"
      },
      "source": [
        "Sum of array using recursion"
      ]
    },
    {
      "cell_type": "code",
      "execution_count": null,
      "metadata": {
        "id": "lgsF7mzNtfNo"
      },
      "outputs": [],
      "source": [
        "\n",
        "def sumofarr(l,n,sum):\n",
        "  if n==0:\n",
        "    sum += l[n]\n",
        "    return sum\n",
        "  sum += l[n]\n",
        "  n-=1\n",
        "  return sumofarr(l,n,sum)\n",
        "\n"
      ]
    },
    {
      "cell_type": "code",
      "execution_count": null,
      "metadata": {
        "colab": {
          "base_uri": "https://localhost:8080/"
        },
        "id": "hnydkgkVgbuZ",
        "outputId": "bc96563a-42ab-4c60-e04c-dfe8a3a31c26"
      },
      "outputs": [
        {
          "name": "stdout",
          "output_type": "stream",
          "text": [
            "18\n"
          ]
        }
      ],
      "source": [
        "l=[5,6,7]\n",
        "print(sumofarr(l,n=len(l)-1,sum=0))"
      ]
    },
    {
      "cell_type": "code",
      "execution_count": null,
      "metadata": {
        "id": "nLUsXfdxgmha"
      },
      "outputs": [],
      "source": [
        "def anothersumarr(l):\n",
        "  if len(l) == 0:\n",
        "    return 0\n",
        "  rightsum = anothersumarr(l[1:])\n",
        "  my_sum = l[0]+rightsum\n",
        "  return my_sum"
      ]
    },
    {
      "cell_type": "code",
      "execution_count": null,
      "metadata": {
        "colab": {
          "base_uri": "https://localhost:8080/"
        },
        "id": "euyan-SZkI93",
        "outputId": "af161203-bc71-4238-f96b-ab690b84497d"
      },
      "outputs": [
        {
          "name": "stdout",
          "output_type": "stream",
          "text": [
            "45\n",
            "45\n"
          ]
        }
      ],
      "source": [
        "l=[1,2,3,4,5,6,7,8,9]\n",
        "print(anothersumarr(l))\n",
        "print(sumofarr(l,len(l)-1,sum=0))"
      ]
    },
    {
      "cell_type": "code",
      "execution_count": null,
      "metadata": {
        "id": "mYmBUYbpkO3e"
      },
      "outputs": [],
      "source": [
        "def sortarray(l):\n",
        "  if len(l)==0 or len(l)==1:\n",
        "    return True\n",
        "  restsorted = sortarray(l[1:])\n",
        "  if restsorted == False:\n",
        "    return False\n",
        "  if l[0]<l[1]:\n",
        "    return True\n",
        "  else:\n",
        "    return False\n"
      ]
    },
    {
      "cell_type": "code",
      "execution_count": null,
      "metadata": {
        "colab": {
          "base_uri": "https://localhost:8080/"
        },
        "id": "kDyuqRo_xRly",
        "outputId": "f441cd32-d46a-4b80-d6d1-a94007bac651"
      },
      "outputs": [
        {
          "name": "stdout",
          "output_type": "stream",
          "text": [
            "True\n"
          ]
        }
      ],
      "source": [
        "print(sortarray([1,2,3,4,5,67]))"
      ]
    },
    {
      "cell_type": "code",
      "execution_count": null,
      "metadata": {
        "id": "slWKxCmZxUbO"
      },
      "outputs": [],
      "source": [
        "def sortedarraywithlesscall(l):\n",
        "  if len(l) in (0,1):\n",
        "    return True\n",
        "  if l[0]>l[1]:\n",
        "    return False\n",
        "  return sortedarraywithlesscall(l[1:])"
      ]
    },
    {
      "cell_type": "code",
      "execution_count": null,
      "metadata": {
        "colab": {
          "base_uri": "https://localhost:8080/"
        },
        "id": "4tusd2iX_tzP",
        "outputId": "6d4016d7-18c7-43e1-bd76-a56d315b8658"
      },
      "outputs": [
        {
          "name": "stdout",
          "output_type": "stream",
          "text": [
            "False\n"
          ]
        }
      ],
      "source": [
        "print(sortedarraywithlesscall([1,2,35,4,5,67]))"
      ]
    },
    {
      "cell_type": "markdown",
      "metadata": {
        "id": "Cm-sCNETBrgl"
      },
      "source": [
        "### First , last and all index in an element in an array , first last and all index."
      ]
    },
    {
      "cell_type": "code",
      "execution_count": null,
      "metadata": {
        "id": "7O4Cgeyr_0FQ"
      },
      "outputs": [],
      "source": [
        "def firstOccurance(l,n):\n",
        "  if len(l) == 0:\n",
        "    return -1\n",
        "  if l[0] == n:\n",
        "    return 0\n",
        "  first_index = firstOccurance(l[1:],n)\n",
        "  if first_index == -1:\n",
        "    return first_index\n",
        "  if first_index == 0:\n",
        "    return first_index + 1\n"
      ]
    },
    {
      "cell_type": "code",
      "execution_count": null,
      "metadata": {
        "id": "oV_9DkXUESSU"
      },
      "outputs": [],
      "source": [
        "firstOccurance([3,4,5,6,8,9,7,2Ṇ,5,6,7,2],2)"
      ]
    },
    {
      "cell_type": "markdown",
      "metadata": {},
      "source": [
        " Leetcode fibonacci : https://leetcode.com/problems/fibonacci-number/description/"
      ]
    },
    {
      "cell_type": "code",
      "execution_count": 1,
      "metadata": {
        "id": "7H-8DfZ9EX9g"
      },
      "outputs": [],
      "source": [
        "class Solution:\n",
        "    def fib(self, n: int) -> int:\n",
        "        if n==0 or n<0:\n",
        "            return 0\n",
        "        elif n==1 :\n",
        "            return 1\n",
        "        else:\n",
        "            first = self.fib(n-1)\n",
        "            second = self.fib(n-2)\n",
        "        return first+second"
      ]
    },
    {
      "cell_type": "code",
      "execution_count": null,
      "metadata": {},
      "outputs": [],
      "source": []
    }
  ],
  "metadata": {
    "colab": {
      "provenance": []
    },
    "kernelspec": {
      "display_name": "Python 3",
      "name": "python3"
    },
    "language_info": {
      "codemirror_mode": {
        "name": "ipython",
        "version": 3
      },
      "file_extension": ".py",
      "mimetype": "text/x-python",
      "name": "python",
      "nbconvert_exporter": "python",
      "pygments_lexer": "ipython3",
      "version": "3.9.4"
    }
  },
  "nbformat": 4,
  "nbformat_minor": 0
}
