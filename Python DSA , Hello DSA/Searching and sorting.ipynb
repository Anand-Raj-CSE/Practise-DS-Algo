{
 "cells": [
  {
   "cell_type": "markdown",
   "id": "65bc0148",
   "metadata": {},
   "source": [
    "## Will try to implemeny every algorithm in a class applying OOPs."
   ]
  },
  {
   "cell_type": "code",
   "execution_count": 7,
   "id": "b496d6b6",
   "metadata": {},
   "outputs": [
    {
     "name": "stdout",
     "output_type": "stream",
     "text": [
      "Found at index : 8\n"
     ]
    }
   ],
   "source": [
    "class LinearSearch():\n",
    "    def __init__(self,arr):\n",
    "        self.arr = arr\n",
    "    def linearSearch(self,target):\n",
    "        self.j=0\n",
    "        for i in self.arr:\n",
    "            \n",
    "            if i == target:\n",
    "                return (self.j)\n",
    "            else:\n",
    "                self.j+=1\n",
    "        return -1\n",
    "\n",
    "obj = LinearSearch([1,2,3,4,5,6,7,8,90,12,44,56,72,87,41,59,44,85,47,554,44,8,44,5,5,87,56,55])\n",
    "idx = obj.linearSearch(90)\n",
    "if idx == -1:\n",
    "    print(f\"Not found\")\n",
    "else :\n",
    "    print(f\"Found at index : {idx}\")"
   ]
  },
  {
   "cell_type": "code",
   "execution_count": 2,
   "id": "8d5076f3",
   "metadata": {},
   "outputs": [
    {
     "name": "stdout",
     "output_type": "stream",
     "text": [
      "Found at index : 14\n"
     ]
    }
   ],
   "source": [
    "class BinarySearch():\n",
    "    def __init__(self,arr):\n",
    "        self.arr = arr\n",
    "        self.end = len(self.arr)-1\n",
    "    def binarysearch(self,target,start,end):\n",
    "        if target>self.arr[self.end]:\n",
    "            return -1\n",
    "        self.start = 0\n",
    "        self.mid = int((start+end)/2)\n",
    "        if target == self.arr[self.mid]:\n",
    "            return self.mid + 1\n",
    "        if target<self.arr[self.mid]:\n",
    "            return self.binarysearch(target,self.start,self.mid)\n",
    "        elif target > self.arr[self.mid]:\n",
    "            return self.binarysearch(target,self.mid,self.end)\n",
    "        \n",
    "obj = BinarySearch([1,2,3,4,5,6,7,8,9,10,15,45,78,98,56,450])\n",
    "idx = obj.binarysearch(98,0,0)\n",
    "\n",
    "if idx == -1:\n",
    "    print(\"Not found\")\n",
    "\n",
    "else:\n",
    "    print(f\"Found at index : {idx}\")\n",
    "        "
   ]
  },
  {
   "cell_type": "code",
   "execution_count": 2,
   "id": "137b1d6e",
   "metadata": {},
   "outputs": [
    {
     "name": "stdout",
     "output_type": "stream",
     "text": [
      "[1, 2, 10, 54, 85, 96]\n",
      "[1, 10, 12, 25, 65, 78]\n"
     ]
    }
   ],
   "source": [
    "class BubbleSort():\n",
    "    def __init__(self,arr):\n",
    "        self.arr = arr\n",
    "\n",
    "    def sorting(self):\n",
    "        n=len(self.arr)\n",
    "        for i in range(n-1):\n",
    "                for j in range(i+1,n):\n",
    "                    if self.arr[i+1]<self.arr[i]:\n",
    "                         a=self.arr[i+1]\n",
    "                         self.arr[i+1] = self.arr[i]\n",
    "                         self.arr[i] = a\n",
    "        return self.arr\n",
    "    \n",
    "obj = BubbleSort([10,1,2,54,85,96])\n",
    "print(obj.sorting())\n",
    "obj = BubbleSort([1,25,10,12,65,78])\n",
    "print(obj.sorting())\n"
   ]
  },
  {
   "cell_type": "code",
   "execution_count": 4,
   "id": "25490fb0",
   "metadata": {},
   "outputs": [
    {
     "name": "stdout",
     "output_type": "stream",
     "text": [
      "[1, 10, 12, 25, 65, 78]\n",
      "[1, 2, 3, 4, 4, 5, 5, 8, 9, 12, 47, 54]\n"
     ]
    }
   ],
   "source": [
    "### defining a better code than this one ; \n",
    "def bubbleSort(arr):\n",
    "    n=len(arr)\n",
    "    for i in range(n):\n",
    "        for j in range(0,n-1-i):\n",
    "            if arr[j]>arr[j+1]:\n",
    "                arr[j],arr[j+1]=arr[j+1],arr[j]\n",
    "\n",
    "    return arr\n",
    "\n",
    "unsorted_list = [1,25,10,12,65,78]\n",
    "print(bubbleSort(unsorted_list))\n",
    "unsorted_list = [54,12,47,5,4,9,8,5,4,3,2,1]\n",
    "print(bubbleSort(unsorted_list))"
   ]
  },
  {
   "cell_type": "code",
   "execution_count": 6,
   "id": "cb4b402c",
   "metadata": {},
   "outputs": [
    {
     "name": "stdout",
     "output_type": "stream",
     "text": [
      "[1, 2, 4, 6, 7, 8, 14, 45, 55, 78]\n"
     ]
    }
   ],
   "source": [
    "class SelectionSort():\n",
    "    def __init__(self,arr):\n",
    "        self.arr = arr\n",
    "\n",
    "    def selectionSort(self):\n",
    "        min = self.arr[0]\n",
    "        pos=0\n",
    "        n=len(self.arr)\n",
    "        for i in range(n):\n",
    "            min = self.arr[i]\n",
    "            for j in range(i,n):\n",
    "                if self.arr[j]<min:\n",
    "                    min = self.arr[j]\n",
    "                    pos = j\n",
    "            if min<self.arr[i]:\n",
    "                self.arr[pos],self.arr[i] = self.arr[i],min\n",
    "            \n",
    "        return self.arr\n",
    "    \n",
    "obj = SelectionSort([14,2,1,45,8,7,55,6,4,78])\n",
    "print(obj.selectionSort())\n",
    "\n",
    "        "
   ]
  },
  {
   "cell_type": "code",
   "execution_count": 12,
   "id": "5aeb6505",
   "metadata": {},
   "outputs": [
    {
     "name": "stdout",
     "output_type": "stream",
     "text": [
      "[1, 2, 12, 23, 24, 58]\n"
     ]
    }
   ],
   "source": [
    "class InsertionSort():\n",
    "    def __init__(self,arr):\n",
    "        self.a=arr\n",
    "    \n",
    "    def inserionSort(self):\n",
    "        n= len(self.a)\n",
    "        for i in range(1,n):\n",
    "            if self.a[i-1]>self.a[i]:\n",
    "                j=i\n",
    "                while(self.a[j]<self.a[j-1] and j>0):\n",
    "                    self.a[j],self.a[j-1] = self.a[j-1],self.a[j]\n",
    "                    j -= 1\n",
    "        \n",
    "        return self.a\n",
    "    \n",
    "obj = InsertionSort([24,12,1,23,2,58])\n",
    "print(obj.inserionSort())"
   ]
  },
  {
   "cell_type": "code",
   "execution_count": null,
   "id": "fedad154",
   "metadata": {},
   "outputs": [],
   "source": []
  }
 ],
 "metadata": {
  "kernelspec": {
   "display_name": "Python 3",
   "language": "python",
   "name": "python3"
  },
  "language_info": {
   "codemirror_mode": {
    "name": "ipython",
    "version": 3
   },
   "file_extension": ".py",
   "mimetype": "text/x-python",
   "name": "python",
   "nbconvert_exporter": "python",
   "pygments_lexer": "ipython3",
   "version": "3.9.4"
  }
 },
 "nbformat": 4,
 "nbformat_minor": 5
}
